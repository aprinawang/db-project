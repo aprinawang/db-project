{
 "cells": [
  {
   "cell_type": "markdown",
   "id": "1af8e094",
   "metadata": {},
   "source": [
    "# Creating the Insert Statements for the SQL Database\n",
    "note: the csv files are located in /cleaned_data subfolder"
   ]
  },
  {
   "cell_type": "code",
   "execution_count": 62,
   "id": "ab0ea6b1",
   "metadata": {},
   "outputs": [],
   "source": [
    "import pandas as pd\n",
    "#clearing any text files before adding in the insert statements\n",
    "open('output/insert_statement.txt', 'w').close()"
   ]
  },
  {
   "cell_type": "markdown",
   "id": "eb1042fe",
   "metadata": {},
   "source": [
    "Reading in the data csv files into dataframes"
   ]
  },
  {
   "cell_type": "code",
   "execution_count": 74,
   "id": "92989efa",
   "metadata": {},
   "outputs": [],
   "source": [
    "users_df = pd.read_csv('./cleaned_data/users.csv')\n",
    "ingredients_df = pd.read_csv('./cleaned_data/ingredients.csv')\n",
    "recipe_df = pd.read_csv('./cleaned_data/recipes.csv')\n",
    "\n",
    "recipe_link_df = pd.read_csv('./cleaned_data/ingredient_in.csv')\n",
    "interactions_df = pd.read_csv('./cleaned_data/interactions.csv')\n",
    "\n",
    "allergies_df = pd.read_csv('./cleaned_data/allergies.csv')\n",
    "allergens_df = pd.read_csv('./cleaned_data/allergens.csv')\n",
    "\n",
    "tag_link_df = pd.read_csv('./cleaned_data/recipe_tags_link.csv')\n",
    "tag_df = pd.read_csv('./cleaned_data/tags.csv')"
   ]
  },
  {
   "cell_type": "code",
   "execution_count": 75,
   "id": "3dd8d140",
   "metadata": {
    "scrolled": true
   },
   "outputs": [
    {
     "name": "stdout",
     "output_type": "stream",
     "text": [
      "Index(['tag_id', 'tag_name'], dtype='object')\n"
     ]
    }
   ],
   "source": [
    "print(tag_df.columns)"
   ]
  },
  {
   "cell_type": "markdown",
   "id": "4c0bd74b",
   "metadata": {},
   "source": [
    "Below Cell is just cleaning up the column names"
   ]
  },
  {
   "cell_type": "code",
   "execution_count": 76,
   "id": "2a35c7dd",
   "metadata": {},
   "outputs": [],
   "source": [
    "# Columns to drop\n",
    "columns_to_drop = ['tags', 'nutrition', 'steps', 'description', 'ingredients']\n",
    "\n",
    "# Drop specified columns\n",
    "recipe_df = recipe_df.drop(columns=columns_to_drop)\n",
    "ingredients_df = ingredients_df['NDB_No']\n",
    "recipe_df = pd.DataFrame(recipe_df)\n",
    "ingredients_df = pd.DataFrame(ingredients_df)\n",
    "ingredients_df.rename(columns={'NDB_No': 'ingredient_id'}, inplace=True)"
   ]
  },
  {
   "cell_type": "markdown",
   "id": "cf247874",
   "metadata": {},
   "source": [
    "Placeholder data for testing (can comment)"
   ]
  },
  {
   "cell_type": "code",
   "execution_count": 77,
   "id": "0df17256",
   "metadata": {},
   "outputs": [],
   "source": [
    "# Placeholder data for testing\n",
    "# users = [{'user_id': 1, 'username': 'user1', 'email': 'user1@example.com'},\n",
    "#          {'user_id': 2, 'username': 'user2', 'email': 'user2@example.com'}]\n",
    "\n",
    "# ingredients = [{'ingredient_id': 1},\n",
    "#                {'ingredient_id': 2}]\n",
    "\n",
    "# recipe_ingredients = [{'recipe_id': 1, 'ingredient_id': 1},\n",
    "#                       {'recipe_id': 1, 'ingredient_id': 2}]\n",
    "\n",
    "# recipes = [{'recipe_name': 'Recipe1', 'recipe_id': 1, 'minutes': 30, 'user_id': 1, 'date': '2023-01-01 00:00:00', 'num_steps': 5, 'num_ingredients': 3},\n",
    "#            {'recipe_name': 'Recipe2', 'recipe_id': 2, 'minutes': 45, 'user_id': 2, 'date': '2023-01-02 00:00:00', 'num_steps': 6, 'num_ingredients': 4}]\n"
   ]
  },
  {
   "cell_type": "markdown",
   "id": "79d2b0b0",
   "metadata": {},
   "source": [
    "Set the order of the columns for the insert statements"
   ]
  },
  {
   "cell_type": "code",
   "execution_count": 78,
   "id": "52d55afb",
   "metadata": {},
   "outputs": [],
   "source": [
    "# user_columns = ['user_id', 'username', 'email']\n",
    "# ingredient_columns = ['ingredient_id']\n",
    "# recipe_ingredient_link_columns = ['recipe_id', 'ingredient_id']\n",
    "# recipe_columns = ['recipe_name', 'recipe_id', 'minutes', 'user_id', 'date', 'num_steps', 'num_ingredients']\n",
    "# interaction_columns = ['user_id', 'recipe_id', 'date', 'rating', 'review']\n",
    "# allergy_columns = ['allergy', 'allergy_id']\n",
    "# allergens_columns = ['allergy_id', 'ingredient_id']\n",
    "# tag_link_columns = ['recipe_id', 'tag_id']\n",
    "# tag_columns = ['tag_id', 'tag_name']"
   ]
  },
  {
   "cell_type": "code",
   "execution_count": 79,
   "id": "4a6f0057",
   "metadata": {},
   "outputs": [],
   "source": [
    "def dataframe_to_insert_statements(df, table_name):\n",
    "    statements = []\n",
    "    columns = df.columns\n",
    "    for index, row in df.iterrows():\n",
    "        values = []\n",
    "        for col in columns:\n",
    "            if pd.isna(row[col]):\n",
    "                values.append('NULL')\n",
    "            elif isinstance(row[col], str):\n",
    "                # Escape single quotes by replacing ' with ''\n",
    "                escaped_value = row[col].replace(\"'\", \"''\")\n",
    "                values.append(f\"'{escaped_value}'\")\n",
    "            else:\n",
    "                values.append(str(row[col]))\n",
    "        values_str = ', '.join(values)\n",
    "        statement = f\"INSERT INTO {table_name} ({', '.join(columns)}) VALUES ({values_str});\"\n",
    "        statements.append(statement)\n",
    "    return statements"
   ]
  },
  {
   "cell_type": "markdown",
   "id": "44b09512",
   "metadata": {},
   "source": [
    "Write Insert Statements to Text File"
   ]
  },
  {
   "cell_type": "code",
   "execution_count": 80,
   "id": "86f17390",
   "metadata": {
    "scrolled": true
   },
   "outputs": [],
   "source": [
    "# Generate DataFrame statements\n",
    "user_statements = dataframe_to_insert_statements(users_df, 'User')\n",
    "ingredient_statements = dataframe_to_insert_statements(ingredients_df, 'Ingredient')\n",
    "recipe_statements = dataframe_to_insert_statements(recipe_df, 'Recipe')  # Assuming recipe_columns is defined\n",
    "\n",
    "recipe_link_statements = dataframe_to_insert_statements(recipe_link_df, 'RecipeIngredientLink')  # Assuming recipe_ingredient_link_columns is defined\n",
    "interaction_statements = dataframe_to_insert_statements(interactions_df, 'Interaction')  # Assuming interaction_columns is defined\n",
    "\n",
    "allergy_statements = dataframe_to_insert_statements(allergies_df, 'Allergy')  # Assuming allergy_columns is defined\n",
    "allergen_statements = dataframe_to_insert_statements(allergens_df, 'Allergens')  # Assuming allergens_columns is defined\n",
    "\n",
    "tag_link_statements = dataframe_to_insert_statements(tag_link_df, 'TagLink')  # Assuming tag_link_columns is defined\n",
    "tag_statements = dataframe_to_insert_statements(tag_df, 'Tag')  # Assuming tag_columns is defined"
   ]
  },
  {
   "cell_type": "markdown",
   "id": "0e4e26df",
   "metadata": {},
   "source": [
    "Separating Insert Statements by Table"
   ]
  },
  {
   "cell_type": "code",
   "execution_count": 81,
   "id": "d318594c",
   "metadata": {},
   "outputs": [],
   "source": [
    "# all_statements = user_statements + ingredient_statements # + other statements\n",
    "\n",
    "# with open('insert_statements.text', 'w') as file:\n",
    "#     for statement in all_statements:\n",
    "#         file.write(statement + '\\n')\n",
    "\n",
    "# print(\"SQL insert statements generated and written to insert_statements.sql\")"
   ]
  },
  {
   "cell_type": "code",
   "execution_count": 82,
   "id": "cc978119",
   "metadata": {},
   "outputs": [],
   "source": [
    "def write_insert_statements_to_file(statements, filename):\n",
    "    with open(filename, 'w') as file:\n",
    "        for statement in statements:\n",
    "            file.write(statement + '\\n')"
   ]
  },
  {
   "cell_type": "code",
   "execution_count": 83,
   "id": "18eff905",
   "metadata": {},
   "outputs": [],
   "source": [
    "# tag_df = pd.read_csv('./cleaned_data/tags.csv')\n",
    "# tag_statements = dataframe_to_insert_statements(tag_df, 'Tag')  # Assuming tag_columns is defined"
   ]
  },
  {
   "cell_type": "code",
   "execution_count": 84,
   "id": "dc0a109c",
   "metadata": {},
   "outputs": [],
   "source": [
    "write_insert_statements_to_file(user_statements, './output/user_insert_statements.txt')\n",
    "write_insert_statements_to_file(ingredient_statements, './output/ingredient_insert_statements.txt')\n",
    "write_insert_statements_to_file(recipe_statements, './output/recipe_insert_statements.txt')\n",
    "write_insert_statements_to_file(recipe_link_statements, './output/recipe_link_insert_statements.txt')\n",
    "write_insert_statements_to_file(interaction_statements, './output/interaction_insert_statements.txt')\n",
    "write_insert_statements_to_file(allergy_statements, './output/allergy_insert_statements.txt')\n",
    "write_insert_statements_to_file(allergen_statements, './output/allergen_insert_statements.txt')\n",
    "write_insert_statements_to_file(tag_link_statements, './output/tag_link_insert_statements.txt')\n",
    "write_insert_statements_to_file(tag_statements, './output/tag_insert_statements.txt')"
   ]
  },
  {
   "cell_type": "code",
   "execution_count": null,
   "id": "54d42191",
   "metadata": {},
   "outputs": [],
   "source": []
  }
 ],
 "metadata": {
  "kernelspec": {
   "display_name": "Python 3 (ipykernel)",
   "language": "python",
   "name": "python3"
  },
  "language_info": {
   "codemirror_mode": {
    "name": "ipython",
    "version": 3
   },
   "file_extension": ".py",
   "mimetype": "text/x-python",
   "name": "python",
   "nbconvert_exporter": "python",
   "pygments_lexer": "ipython3",
   "version": "3.9.12"
  }
 },
 "nbformat": 4,
 "nbformat_minor": 5
}
